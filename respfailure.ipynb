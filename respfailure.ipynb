{
  "nbformat": 4,
  "nbformat_minor": 0,
  "metadata": {
    "colab": {
      "name": "respfailure.ipynb",
      "provenance": [],
      "collapsed_sections": [],
      "authorship_tag": "ABX9TyNGi9S4Ctr1XiIDYHU2sO1p",
      "include_colab_link": true
    },
    "kernelspec": {
      "name": "python3",
      "display_name": "Python 3"
    }
  },
  "cells": [
    {
      "cell_type": "markdown",
      "metadata": {
        "id": "view-in-github",
        "colab_type": "text"
      },
      "source": [
        "<a href=\"https://colab.research.google.com/github/vitaldb/respfailure/blob/main/respfailure.ipynb\" target=\"_parent\"><img src=\"https://colab.research.google.com/assets/colab-badge.svg\" alt=\"Open In Colab\"/></a>"
      ]
    },
    {
      "cell_type": "markdown",
      "metadata": {
        "id": "EVNIp6lwk5DD"
      },
      "source": [
        "# Prediction Model for Postoperative Respiratory Failure"
      ]
    },
    {
      "cell_type": "code",
      "metadata": {
        "id": "cHEggysIlr04"
      },
      "source": [
        "# recent version xgboost required\n",
        "!pip uninstall xgboost -y\n",
        "!pip install xgboost\n",
        "\n",
        "!wget https://github.com/vitaldb/respfailure/raw/main/model.json"
      ],
      "execution_count": null,
      "outputs": []
    },
    {
      "cell_type": "code",
      "metadata": {
        "colab": {
          "base_uri": "https://localhost:8080/"
        },
        "id": "c8eh2Sx6k21M",
        "outputId": "ae1b7d52-b0ed-4b1d-907e-1158b74eeb2f"
      },
      "source": [
        "import xgboost as xgb\n",
        "import numpy as np\n",
        "import sys\n",
        "import pickle\n",
        "\n",
        "# sample values\n",
        "age = 56\n",
        "andur = 162\n",
        "wbc = 6.2\n",
        "ptinr = 0.99\n",
        "na = 141\n",
        "alb = 4.3\n",
        "\n",
        "model = xgb.Booster()\n",
        "model.load_model('model.json')\n",
        "x = np.array([age, andur, wbc, ptinr, na, alb]).astype(float)\n",
        "x = x[None, ...]\n",
        "x = xgb.DMatrix(x)\n",
        "y = model.predict(x)[0]\n",
        "\n",
        "print('Risk={:.2f}%'.format(y * 100))"
      ],
      "execution_count": 2,
      "outputs": [
        {
          "output_type": "stream",
          "text": [
            "Risk=0.67%\n"
          ],
          "name": "stdout"
        }
      ]
    }
  ]
}
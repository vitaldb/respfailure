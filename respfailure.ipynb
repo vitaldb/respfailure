{
  "nbformat": 4,
  "nbformat_minor": 0,
  "metadata": {
    "colab": {
      "name": "respfailure.ipynb",
      "provenance": [],
      "authorship_tag": "ABX9TyNlv8/WuPat+IGzq+E88/7d",
      "include_colab_link": true
    },
    "kernelspec": {
      "name": "python3",
      "display_name": "Python 3"
    }
  },
  "cells": [
    {
      "cell_type": "markdown",
      "metadata": {
        "id": "view-in-github",
        "colab_type": "text"
      },
      "source": [
        "<a href=\"https://colab.research.google.com/github/vitaldb/respfailure/blob/main/respfailure.ipynb\" target=\"_parent\"><img src=\"https://colab.research.google.com/assets/colab-badge.svg\" alt=\"Open In Colab\"/></a>"
      ]
    },
    {
      "cell_type": "markdown",
      "metadata": {
        "id": "EVNIp6lwk5DD"
      },
      "source": [
        "# Prediction Model for Postoperative Respiratory Failure"
      ]
    },
    {
      "cell_type": "markdown",
      "source": [
        "## Upgrade XGboost library"
      ],
      "metadata": {
        "id": "eZl9laSqS2e8"
      }
    },
    {
      "cell_type": "code",
      "metadata": {
        "id": "cHEggysIlr04",
        "outputId": "8aa658d2-be08-45a8-a485-60d755ea6246",
        "colab": {
          "base_uri": "https://localhost:8080/"
        }
      },
      "source": [
        "# latest version xgboost required\n",
        "!pip uninstall xgboost -y\n",
        "!pip install xgboost"
      ],
      "execution_count": 1,
      "outputs": [
        {
          "output_type": "stream",
          "name": "stdout",
          "text": [
            "Found existing installation: xgboost 0.90\n",
            "Uninstalling xgboost-0.90:\n",
            "  Successfully uninstalled xgboost-0.90\n",
            "Looking in indexes: https://pypi.org/simple, https://us-python.pkg.dev/colab-wheels/public/simple/\n",
            "Collecting xgboost\n",
            "  Downloading xgboost-1.6.2-py3-none-manylinux2014_x86_64.whl (255.9 MB)\n",
            "\u001b[K     |████████████████████████████████| 255.9 MB 34 kB/s \n",
            "\u001b[?25hRequirement already satisfied: numpy in /usr/local/lib/python3.7/dist-packages (from xgboost) (1.21.6)\n",
            "Requirement already satisfied: scipy in /usr/local/lib/python3.7/dist-packages (from xgboost) (1.7.3)\n",
            "Installing collected packages: xgboost\n",
            "Successfully installed xgboost-1.6.2\n"
          ]
        }
      ]
    },
    {
      "cell_type": "markdown",
      "source": [
        "## Download model and sample files"
      ],
      "metadata": {
        "id": "VBnOK7THS5R0"
      }
    },
    {
      "cell_type": "code",
      "source": [
        "!wget https://github.com/vitaldb/respfailure/raw/main/model.json\n",
        "!wget https://github.com/vitaldb/respfailure/raw/main/sample.csv"
      ],
      "metadata": {
        "id": "rf7t_WSpS86u",
        "outputId": "940cc742-cb50-42ac-fc29-be9143d63f5d",
        "colab": {
          "base_uri": "https://localhost:8080/"
        }
      },
      "execution_count": 12,
      "outputs": [
        {
          "output_type": "stream",
          "name": "stdout",
          "text": [
            "--2022-11-24 15:51:11--  https://github.com/vitaldb/respfailure/raw/main/model.json\n",
            "Resolving github.com (github.com)... 140.82.112.3\n",
            "Connecting to github.com (github.com)|140.82.112.3|:443... connected.\n",
            "HTTP request sent, awaiting response... 302 Found\n",
            "Location: https://raw.githubusercontent.com/vitaldb/respfailure/main/model.json [following]\n",
            "--2022-11-24 15:51:11--  https://raw.githubusercontent.com/vitaldb/respfailure/main/model.json\n",
            "Resolving raw.githubusercontent.com (raw.githubusercontent.com)... 185.199.108.133, 185.199.109.133, 185.199.110.133, ...\n",
            "Connecting to raw.githubusercontent.com (raw.githubusercontent.com)|185.199.108.133|:443... connected.\n",
            "HTTP request sent, awaiting response... 200 OK\n",
            "Length: 190490 (186K) [text/plain]\n",
            "Saving to: ‘model.json’\n",
            "\n",
            "model.json          100%[===================>] 186.03K  --.-KB/s    in 0.03s   \n",
            "\n",
            "2022-11-24 15:51:11 (6.66 MB/s) - ‘model.json’ saved [190490/190490]\n",
            "\n",
            "--2022-11-24 15:51:11--  https://github.com/vitaldb/respfailure/raw/main/sample.csv\n",
            "Resolving github.com (github.com)... 140.82.114.3\n",
            "Connecting to github.com (github.com)|140.82.114.3|:443... connected.\n",
            "HTTP request sent, awaiting response... 302 Found\n",
            "Location: https://raw.githubusercontent.com/vitaldb/respfailure/main/sample.csv [following]\n",
            "--2022-11-24 15:51:12--  https://raw.githubusercontent.com/vitaldb/respfailure/main/sample.csv\n",
            "Resolving raw.githubusercontent.com (raw.githubusercontent.com)... 185.199.111.133, 185.199.109.133, 185.199.110.133, ...\n",
            "Connecting to raw.githubusercontent.com (raw.githubusercontent.com)|185.199.111.133|:443... connected.\n",
            "HTTP request sent, awaiting response... 200 OK\n",
            "Length: 601 [text/plain]\n",
            "Saving to: ‘sample.csv’\n",
            "\n",
            "sample.csv          100%[===================>]     601  --.-KB/s    in 0s      \n",
            "\n",
            "2022-11-24 15:51:12 (38.2 MB/s) - ‘sample.csv’ saved [601/601]\n",
            "\n"
          ]
        }
      ]
    },
    {
      "cell_type": "markdown",
      "source": [
        "## Sample code for single patient"
      ],
      "metadata": {
        "id": "JZh6ThUZTCT-"
      }
    },
    {
      "cell_type": "code",
      "metadata": {
        "colab": {
          "base_uri": "https://localhost:8080/"
        },
        "id": "c8eh2Sx6k21M",
        "outputId": "8b8e8f22-866f-4a40-f732-2ab567dd7e46"
      },
      "source": [
        "import xgboost as xgb\n",
        "import numpy as np\n",
        "import sys\n",
        "import pickle\n",
        "\n",
        "# sample values\n",
        "alb = 3.4\n",
        "cr = 4.16\n",
        "glu = 112\n",
        "wbc = 6.59\n",
        "bmi = 24\n",
        "ptinr = 0.89\n",
        "age = 78\n",
        "andur = 105\n",
        "\n",
        "model = xgb.Booster()\n",
        "model.load_model('model.json')\n",
        "x = np.array([alb, cr, glu, wbc, bmi, ptinr, age, andur]).astype(float)\n",
        "x[x == 0] = np.nan  # use zero for missing value\n",
        "x = x[None, ...]\n",
        "y = model.predict(xgb.DMatrix(x))[0]\n",
        "print(f'Risk={y * 100:.2f}%')"
      ],
      "execution_count": 13,
      "outputs": [
        {
          "output_type": "stream",
          "name": "stdout",
          "text": [
            "Risk=0.99%\n"
          ]
        }
      ]
    },
    {
      "cell_type": "markdown",
      "source": [
        "## Sample code using CSV file for multiple patients"
      ],
      "metadata": {
        "id": "OzPGaDY6TFFy"
      }
    },
    {
      "cell_type": "code",
      "source": [
        "import xgboost as xgb\n",
        "import numpy as np\n",
        "import pandas as pd\n",
        "\n",
        "model = xgb.Booster()\n",
        "model.load_model('model.json')\n",
        "\n",
        "df = pd.read_csv('sample.csv')\n",
        "x = df[['alb', 'cr', 'glu', 'wbc', 'bmi', 'ptinr', 'age', 'andur']].astype(float).values\n",
        "df['pred'] = model.predict(xgb.DMatrix(x))\n",
        "df.to_csv('prediction.csv')\n",
        "print(df)"
      ],
      "metadata": {
        "id": "6ohT00-JT9UM",
        "outputId": "e8314ffc-141a-4969-dfe7-6d12ff358f5c",
        "colab": {
          "base_uri": "https://localhost:8080/"
        }
      },
      "execution_count": 14,
      "outputs": [
        {
          "output_type": "stream",
          "name": "stdout",
          "text": [
            "    no  andur  age    wbc  ptinr  glu  alb   bmi    cr      pred\n",
            "0    1    410   40   4.90   1.04   94  4.4  22.5  0.74  0.001270\n",
            "1    2    100   30   4.20   1.01   96  4.6  19.1  0.66  0.000713\n",
            "2    3    130   53   5.47   0.98   97  4.2  22.2  0.65  0.000731\n",
            "3    4    295   59   5.67   1.07   99  4.6  22.4  0.70  0.001703\n",
            "4    5    260   58   5.34   1.11  103  4.5  26.6  0.87  0.002252\n",
            "5    6    510   69   4.55   0.96   84  4.0  23.6  0.73  0.008715\n",
            "6    7    225   66   4.54   1.12  217  3.5  20.1  0.87  0.016042\n",
            "7    8    355   25  11.10   1.09  135  4.7  24.8  0.93  0.004597\n",
            "8    9    305   83   8.00   1.10   83  3.2  23.2  0.57  0.030371\n",
            "9   10     65   56   4.47   0.92  111  4.4  21.2  0.89  0.000767\n",
            "10  11    150   53  12.80   1.22  141  2.3  33.0  0.53  0.018343\n",
            "11  12    250   63   4.59   0.97  252  4.5  24.6  0.85  0.002531\n",
            "12  13    105   62   5.83   1.01  167  4.1  24.7  0.79  0.001140\n",
            "13  14    115   56   5.58   1.01   83  3.8  21.8  1.05  0.001259\n",
            "14  15    120   61   8.64   0.87  168  4.3  30.8  0.83  0.001108\n"
          ]
        }
      ]
    }
  ]
}
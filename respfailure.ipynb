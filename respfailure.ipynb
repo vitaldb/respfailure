{
  "nbformat": 4,
  "nbformat_minor": 0,
  "metadata": {
    "colab": {
      "name": "respfailure.ipynb",
      "provenance": [],
      "authorship_tag": "ABX9TyOAdcSvF8AvB4Z4DoTT0u3O",
      "include_colab_link": true
    },
    "kernelspec": {
      "name": "python3",
      "display_name": "Python 3"
    }
  },
  "cells": [
    {
      "cell_type": "markdown",
      "metadata": {
        "id": "view-in-github",
        "colab_type": "text"
      },
      "source": [
        "<a href=\"https://colab.research.google.com/github/vitaldb/respfailure/blob/main/respfailure.ipynb\" target=\"_parent\"><img src=\"https://colab.research.google.com/assets/colab-badge.svg\" alt=\"Open In Colab\"/></a>"
      ]
    },
    {
      "cell_type": "markdown",
      "metadata": {
        "id": "EVNIp6lwk5DD"
      },
      "source": [
        "# Prediction Model for Postoperative Respiratory Failure"
      ]
    },
    {
      "cell_type": "code",
      "metadata": {
        "id": "cHEggysIlr04"
      },
      "source": [
        "# latest version xgboost required\n",
        "!pip uninstall xgboost -y\n",
        "!pip install xgboost\n",
        "\n",
        "!wget https://github.com/vitaldb/respfailure/raw/main/model.json"
      ],
      "execution_count": null,
      "outputs": []
    },
    {
      "cell_type": "code",
      "metadata": {
        "colab": {
          "base_uri": "https://localhost:8080/"
        },
        "id": "c8eh2Sx6k21M",
        "outputId": "bf94784f-a014-4efb-df2e-bf1b0d0246d3"
      },
      "source": [
        "import xgboost as xgb\n",
        "import numpy as np\n",
        "import sys\n",
        "import pickle\n",
        "\n",
        "# sample values\n",
        "alb = 3.4\n",
        "cr = 4.16\n",
        "glu = 112\n",
        "wbc = 6.59\n",
        "bmi = 24\n",
        "ptinr = 0.89\n",
        "age = 78\n",
        "andur = 105\n",
        "\n",
        "model = xgb.Booster()\n",
        "model.load_model('model.json')\n",
        "x = np.array([alb, cr, glu, wbc, bmi, ptinr, age, andur]).astype(float)\n",
        "x[x <= 0] = np.nan  # zero or negative values for missing value\n",
        "x = x[None, ...]\n",
        "y = model.predict(xgb.DMatrix(x))[0]\n",
        "print(f'Risk={y * 100:.2f}%')"
      ],
      "execution_count": 6,
      "outputs": [
        {
          "output_type": "stream",
          "name": "stdout",
          "text": [
            "Risk=0.99%\n"
          ]
        }
      ]
    }
  ]
}
{
  "nbformat": 4,
  "nbformat_minor": 0,
  "metadata": {
    "colab": {
      "name": "respfailure.ipynb",
      "provenance": [],
      "collapsed_sections": [],
      "authorship_tag": "ABX9TyMMRHAQzFfBaDTjRvzAOPDz",
      "include_colab_link": true
    },
    "kernelspec": {
      "name": "python3",
      "display_name": "Python 3"
    }
  },
  "cells": [
    {
      "cell_type": "markdown",
      "metadata": {
        "id": "view-in-github",
        "colab_type": "text"
      },
      "source": [
        "<a href=\"https://colab.research.google.com/github/vitaldb/respfailure/blob/main/respfailure.ipynb\" target=\"_parent\"><img src=\"https://colab.research.google.com/assets/colab-badge.svg\" alt=\"Open In Colab\"/></a>"
      ]
    },
    {
      "cell_type": "markdown",
      "metadata": {
        "id": "EVNIp6lwk5DD"
      },
      "source": [
        "# Prediction Model for Postoperative Respiratory Failure"
      ]
    },
    {
      "cell_type": "code",
      "metadata": {
        "id": "cHEggysIlr04"
      },
      "source": [
        "# recent version xgboost required\r\n",
        "!pip uninstall xgboost -y\r\n",
        "!pip install xgboost\r\n",
        "\r\n",
        "!wget https://github.com/vitaldb/respfailure/raw/main/model.json"
      ],
      "execution_count": null,
      "outputs": []
    },
    {
      "cell_type": "code",
      "metadata": {
        "colab": {
          "base_uri": "https://localhost:8080/"
        },
        "id": "c8eh2Sx6k21M",
        "outputId": "118ce46c-cb1f-491e-e618-be310ff026e8"
      },
      "source": [
        "import xgboost as xgb\r\n",
        "import numpy as np\r\n",
        "import sys\r\n",
        "import pickle\r\n",
        "\r\n",
        "# sample values\r\n",
        "andur = 2.7\r\n",
        "na = 141\r\n",
        "glu = None  # use None for missing value\r\n",
        "ptinr = 0.99\r\n",
        "wbc = 6.2\r\n",
        "cr = 0.78\r\n",
        "alb = 4.3\r\n",
        "age = 56\r\n",
        "its = 0  # intrathoracic surgery\r\n",
        "\r\n",
        "model = xgb.Booster()\r\n",
        "model.load_model('model.json')\r\n",
        "x = np.array([andur, na, glu, ptinr, wbc, cr, alb, age, its]).astype(float)\r\n",
        "x = x[None, ...]\r\n",
        "x = xgb.DMatrix(x)\r\n",
        "y = model.predict(x)[0]\r\n",
        "\r\n",
        "print('score = {:.3f}'.format(y))"
      ],
      "execution_count": null,
      "outputs": [
        {
          "output_type": "stream",
          "text": [
            "score = 0.031\n"
          ],
          "name": "stdout"
        }
      ]
    }
  ]
}
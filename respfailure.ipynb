{
  "nbformat": 4,
  "nbformat_minor": 0,
  "metadata": {
    "colab": {
      "name": "respfailure.ipynb",
      "provenance": [],
      "collapsed_sections": [],
      "authorship_tag": "ABX9TyOdH6bjWY4IaB7d98wrPUbs",
      "include_colab_link": true
    },
    "kernelspec": {
      "name": "python3",
      "display_name": "Python 3"
    }
  },
  "cells": [
    {
      "cell_type": "markdown",
      "metadata": {
        "id": "view-in-github",
        "colab_type": "text"
      },
      "source": [
        "<a href=\"https://colab.research.google.com/github/vitaldb/respfailure/blob/main/respfailure.ipynb\" target=\"_parent\"><img src=\"https://colab.research.google.com/assets/colab-badge.svg\" alt=\"Open In Colab\"/></a>"
      ]
    },
    {
      "cell_type": "markdown",
      "metadata": {
        "id": "EVNIp6lwk5DD"
      },
      "source": [
        "# Prediction Model for Postoperative Respiratory Failure"
      ]
    },
    {
      "cell_type": "code",
      "metadata": {
        "colab": {
          "base_uri": "https://localhost:8080/"
        },
        "id": "cHEggysIlr04",
        "outputId": "14fb00eb-1e6f-4d43-8ffe-e59913a67c71"
      },
      "source": [
        "# recent version xgboost required\r\n",
        "!pip uninstall xgboost -y\r\n",
        "!pip install xgboost\r\n",
        "\r\n",
        "!wget https://github.com/vitaldb/respfailure/raw/main/model.json"
      ],
      "execution_count": 1,
      "outputs": [
        {
          "output_type": "stream",
          "text": [
            "Uninstalling xgboost-0.90:\n",
            "  Successfully uninstalled xgboost-0.90\n",
            "Collecting xgboost\n",
            "\u001b[?25l  Downloading https://files.pythonhosted.org/packages/2e/57/bf5026701c384decd2b995eb39d86587a103ba4eb26f8a9b1811db0896d3/xgboost-1.3.3-py3-none-manylinux2010_x86_64.whl (157.5MB)\n",
            "\u001b[K     |████████████████████████████████| 157.5MB 101kB/s \n",
            "\u001b[?25hRequirement already satisfied: scipy in /usr/local/lib/python3.6/dist-packages (from xgboost) (1.4.1)\n",
            "Requirement already satisfied: numpy in /usr/local/lib/python3.6/dist-packages (from xgboost) (1.19.5)\n",
            "Installing collected packages: xgboost\n",
            "Successfully installed xgboost-1.3.3\n",
            "--2021-02-01 07:38:56--  https://github.com/vitaldb/respfailure/raw/main/model.json\n",
            "Resolving github.com (github.com)... 140.82.121.3\n",
            "Connecting to github.com (github.com)|140.82.121.3|:443... connected.\n",
            "HTTP request sent, awaiting response... 302 Found\n",
            "Location: https://raw.githubusercontent.com/vitaldb/respfailure/main/model.json [following]\n",
            "--2021-02-01 07:38:56--  https://raw.githubusercontent.com/vitaldb/respfailure/main/model.json\n",
            "Resolving raw.githubusercontent.com (raw.githubusercontent.com)... 151.101.0.133, 151.101.64.133, 151.101.128.133, ...\n",
            "Connecting to raw.githubusercontent.com (raw.githubusercontent.com)|151.101.0.133|:443... connected.\n",
            "HTTP request sent, awaiting response... 200 OK\n",
            "Length: 99289 (97K) [text/plain]\n",
            "Saving to: ‘model.json’\n",
            "\n",
            "model.json          100%[===================>]  96.96K  --.-KB/s    in 0.005s  \n",
            "\n",
            "2021-02-01 07:38:56 (17.6 MB/s) - ‘model.json’ saved [99289/99289]\n",
            "\n"
          ],
          "name": "stdout"
        }
      ]
    },
    {
      "cell_type": "code",
      "metadata": {
        "colab": {
          "base_uri": "https://localhost:8080/"
        },
        "id": "c8eh2Sx6k21M",
        "outputId": "462c2e2a-35aa-4443-f3ad-f299bee0da20"
      },
      "source": [
        "import xgboost as xgb\r\n",
        "import numpy as np\r\n",
        "import sys\r\n",
        "import pickle\r\n",
        "\r\n",
        "# sample values\r\n",
        "andur = 2.7\r\n",
        "na = 141\r\n",
        "glu = None  # use None for missing value\r\n",
        "ptinr = 0.99\r\n",
        "wbc = 6.2\r\n",
        "cr = 0.78\r\n",
        "alb = 4.3\r\n",
        "age = 56\r\n",
        "its = 0  # intra thoracic surgery\r\n",
        "\r\n",
        "model = xgb.Booster()\r\n",
        "model.load_model('model.json')\r\n",
        "x = np.array([andur, na, glu, ptinr, wbc, cr, alb, age, its]).astype(float)\r\n",
        "x = x[None, ...]\r\n",
        "x = xgb.DMatrix(x)\r\n",
        "y = model.predict(x)[0]\r\n",
        "\r\n",
        "print('score = {:.3f}'.format(y))"
      ],
      "execution_count": 2,
      "outputs": [
        {
          "output_type": "stream",
          "text": [
            "score = 0.022\n"
          ],
          "name": "stdout"
        }
      ]
    }
  ]
}
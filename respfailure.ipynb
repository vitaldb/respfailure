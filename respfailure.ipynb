{
  "nbformat": 4,
  "nbformat_minor": 0,
  "metadata": {
    "colab": {
      "name": "respfailure.ipynb",
      "provenance": [],
      "authorship_tag": "ABX9TyNbUoDbKYLVBzgmDO476N7/",
      "include_colab_link": true
    },
    "kernelspec": {
      "name": "python3",
      "display_name": "Python 3"
    }
  },
  "cells": [
    {
      "cell_type": "markdown",
      "metadata": {
        "id": "view-in-github",
        "colab_type": "text"
      },
      "source": [
        "<a href=\"https://colab.research.google.com/github/vitaldb/respfailure/blob/main/respfailure.ipynb\" target=\"_parent\"><img src=\"https://colab.research.google.com/assets/colab-badge.svg\" alt=\"Open In Colab\"/></a>"
      ]
    },
    {
      "cell_type": "markdown",
      "metadata": {
        "id": "EVNIp6lwk5DD"
      },
      "source": [
        "# Prediction Model for Postoperative Respiratory Failure"
      ]
    },
    {
      "cell_type": "markdown",
      "source": [
        "## Upgrade XGboost library"
      ],
      "metadata": {
        "id": "eZl9laSqS2e8"
      }
    },
    {
      "cell_type": "code",
      "metadata": {
        "id": "cHEggysIlr04",
        "outputId": "64cfdfaf-7e55-4a87-ac5d-2e2950224888",
        "colab": {
          "base_uri": "https://localhost:8080/"
        }
      },
      "source": [
        "# latest version xgboost required\n",
        "!pip uninstall xgboost -y\n",
        "!pip install xgboost==1.6.1\n",
        "!pip install ml_insights"
      ],
      "execution_count": 1,
      "outputs": [
        {
          "output_type": "stream",
          "name": "stdout",
          "text": [
            "Found existing installation: xgboost 1.7.5\n",
            "Uninstalling xgboost-1.7.5:\n",
            "  Successfully uninstalled xgboost-1.7.5\n",
            "Looking in indexes: https://pypi.org/simple, https://us-python.pkg.dev/colab-wheels/public/simple/\n",
            "Collecting xgboost==1.6.1\n",
            "  Downloading xgboost-1.6.1-py3-none-manylinux2014_x86_64.whl (192.9 MB)\n",
            "\u001b[2K     \u001b[90m━━━━━━━━━━━━━━━━━━━━━━━━━━━━━━━━━━━━━━━\u001b[0m \u001b[32m192.9/192.9 MB\u001b[0m \u001b[31m4.0 MB/s\u001b[0m eta \u001b[36m0:00:00\u001b[0m\n",
            "\u001b[?25hRequirement already satisfied: numpy in /usr/local/lib/python3.9/dist-packages (from xgboost==1.6.1) (1.22.4)\n",
            "Requirement already satisfied: scipy in /usr/local/lib/python3.9/dist-packages (from xgboost==1.6.1) (1.10.1)\n",
            "Installing collected packages: xgboost\n",
            "Successfully installed xgboost-1.6.1\n",
            "Looking in indexes: https://pypi.org/simple, https://us-python.pkg.dev/colab-wheels/public/simple/\n",
            "Collecting ml_insights\n",
            "  Downloading ml_insights-1.0.2-py2.py3-none-any.whl (36 kB)\n",
            "Requirement already satisfied: pandas>=0.23 in /usr/local/lib/python3.9/dist-packages (from ml_insights) (1.4.4)\n",
            "Requirement already satisfied: scipy>=1.6.0 in /usr/local/lib/python3.9/dist-packages (from ml_insights) (1.10.1)\n",
            "Requirement already satisfied: numpy>=1.16.0 in /usr/local/lib/python3.9/dist-packages (from ml_insights) (1.22.4)\n",
            "Collecting splinecalib>=0.0.2\n",
            "  Downloading splinecalib-0.0.4.tar.gz (2.6 MB)\n",
            "\u001b[2K     \u001b[90m━━━━━━━━━━━━━━━━━━━━━━━━━━━━━━━━━━━━━━━━\u001b[0m \u001b[32m2.6/2.6 MB\u001b[0m \u001b[31m34.5 MB/s\u001b[0m eta \u001b[36m0:00:00\u001b[0m\n",
            "\u001b[?25h  Installing build dependencies ... \u001b[?25l\u001b[?25hdone\n",
            "  Getting requirements to build wheel ... \u001b[?25l\u001b[?25hdone\n",
            "  Installing backend dependencies ... \u001b[?25l\u001b[?25hdone\n",
            "  Preparing metadata (pyproject.toml) ... \u001b[?25l\u001b[?25hdone\n",
            "Requirement already satisfied: scikit-learn>=0.24.2 in /usr/local/lib/python3.9/dist-packages (from ml_insights) (1.2.2)\n",
            "Requirement already satisfied: matplotlib>=2.0.0 in /usr/local/lib/python3.9/dist-packages (from ml_insights) (3.7.1)\n",
            "Requirement already satisfied: cycler>=0.10 in /usr/local/lib/python3.9/dist-packages (from matplotlib>=2.0.0->ml_insights) (0.11.0)\n",
            "Requirement already satisfied: pillow>=6.2.0 in /usr/local/lib/python3.9/dist-packages (from matplotlib>=2.0.0->ml_insights) (8.4.0)\n",
            "Requirement already satisfied: python-dateutil>=2.7 in /usr/local/lib/python3.9/dist-packages (from matplotlib>=2.0.0->ml_insights) (2.8.2)\n",
            "Requirement already satisfied: pyparsing>=2.3.1 in /usr/local/lib/python3.9/dist-packages (from matplotlib>=2.0.0->ml_insights) (3.0.9)\n",
            "Requirement already satisfied: importlib-resources>=3.2.0 in /usr/local/lib/python3.9/dist-packages (from matplotlib>=2.0.0->ml_insights) (5.12.0)\n",
            "Requirement already satisfied: packaging>=20.0 in /usr/local/lib/python3.9/dist-packages (from matplotlib>=2.0.0->ml_insights) (23.0)\n",
            "Requirement already satisfied: fonttools>=4.22.0 in /usr/local/lib/python3.9/dist-packages (from matplotlib>=2.0.0->ml_insights) (4.39.3)\n",
            "Requirement already satisfied: contourpy>=1.0.1 in /usr/local/lib/python3.9/dist-packages (from matplotlib>=2.0.0->ml_insights) (1.0.7)\n",
            "Requirement already satisfied: kiwisolver>=1.0.1 in /usr/local/lib/python3.9/dist-packages (from matplotlib>=2.0.0->ml_insights) (1.4.4)\n",
            "Requirement already satisfied: pytz>=2020.1 in /usr/local/lib/python3.9/dist-packages (from pandas>=0.23->ml_insights) (2022.7.1)\n",
            "Requirement already satisfied: joblib>=1.1.1 in /usr/local/lib/python3.9/dist-packages (from scikit-learn>=0.24.2->ml_insights) (1.1.1)\n",
            "Requirement already satisfied: threadpoolctl>=2.0.0 in /usr/local/lib/python3.9/dist-packages (from scikit-learn>=0.24.2->ml_insights) (3.1.0)\n",
            "Requirement already satisfied: zipp>=3.1.0 in /usr/local/lib/python3.9/dist-packages (from importlib-resources>=3.2.0->matplotlib>=2.0.0->ml_insights) (3.15.0)\n",
            "Requirement already satisfied: six>=1.5 in /usr/local/lib/python3.9/dist-packages (from python-dateutil>=2.7->matplotlib>=2.0.0->ml_insights) (1.16.0)\n",
            "Building wheels for collected packages: splinecalib\n",
            "  Building wheel for splinecalib (pyproject.toml) ... \u001b[?25l\u001b[?25hdone\n",
            "  Created wheel for splinecalib: filename=splinecalib-0.0.4-cp39-cp39-linux_x86_64.whl size=124720 sha256=e7578133619a6bdba1f7f0b9205e57a30361ce58ad4382a385cab68754f8be72\n",
            "  Stored in directory: /root/.cache/pip/wheels/f5/f3/96/c0ba28c4716bbd318957ea8291f859ced603ce754cf3720d36\n",
            "Successfully built splinecalib\n",
            "Installing collected packages: splinecalib, ml_insights\n",
            "Successfully installed ml_insights-1.0.2 splinecalib-0.0.4\n"
          ]
        }
      ]
    },
    {
      "cell_type": "markdown",
      "source": [
        "## Download model and sample files"
      ],
      "metadata": {
        "id": "VBnOK7THS5R0"
      }
    },
    {
      "cell_type": "code",
      "source": [
        "!wget https://github.com/vitaldb/respfailure/raw/main/model.json\n",
        "!wget https://github.com/vitaldb/respfailure/raw/main/sample.csv\n",
        "!wget https://github.com/vitaldb/respfailure/raw/main/splinecalib.pkl"
      ],
      "metadata": {
        "id": "rf7t_WSpS86u",
        "outputId": "4bbbbcb0-4e11-465e-8e98-786ab47e124a",
        "colab": {
          "base_uri": "https://localhost:8080/"
        }
      },
      "execution_count": 2,
      "outputs": [
        {
          "output_type": "stream",
          "name": "stdout",
          "text": [
            "--2023-04-09 09:36:39--  https://github.com/vitaldb/respfailure/raw/main/model.json\n",
            "Resolving github.com (github.com)... 140.82.112.4\n",
            "Connecting to github.com (github.com)|140.82.112.4|:443... connected.\n",
            "HTTP request sent, awaiting response... 302 Found\n",
            "Location: https://raw.githubusercontent.com/vitaldb/respfailure/main/model.json [following]\n",
            "--2023-04-09 09:36:39--  https://raw.githubusercontent.com/vitaldb/respfailure/main/model.json\n",
            "Resolving raw.githubusercontent.com (raw.githubusercontent.com)... 185.199.109.133, 185.199.111.133, 185.199.108.133, ...\n",
            "Connecting to raw.githubusercontent.com (raw.githubusercontent.com)|185.199.109.133|:443... connected.\n",
            "HTTP request sent, awaiting response... 200 OK\n",
            "Length: 190490 (186K) [text/plain]\n",
            "Saving to: ‘model.json’\n",
            "\n",
            "model.json          100%[===================>] 186.03K  --.-KB/s    in 0.02s   \n",
            "\n",
            "2023-04-09 09:36:40 (9.67 MB/s) - ‘model.json’ saved [190490/190490]\n",
            "\n",
            "--2023-04-09 09:36:40--  https://github.com/vitaldb/respfailure/raw/main/sample.csv\n",
            "Resolving github.com (github.com)... 140.82.112.4\n",
            "Connecting to github.com (github.com)|140.82.112.4|:443... connected.\n",
            "HTTP request sent, awaiting response... 302 Found\n",
            "Location: https://raw.githubusercontent.com/vitaldb/respfailure/main/sample.csv [following]\n",
            "--2023-04-09 09:36:40--  https://raw.githubusercontent.com/vitaldb/respfailure/main/sample.csv\n",
            "Resolving raw.githubusercontent.com (raw.githubusercontent.com)... 185.199.108.133, 185.199.109.133, 185.199.111.133, ...\n",
            "Connecting to raw.githubusercontent.com (raw.githubusercontent.com)|185.199.108.133|:443... connected.\n",
            "HTTP request sent, awaiting response... 200 OK\n",
            "Length: 601 [text/plain]\n",
            "Saving to: ‘sample.csv’\n",
            "\n",
            "sample.csv          100%[===================>]     601  --.-KB/s    in 0s      \n",
            "\n",
            "2023-04-09 09:36:40 (19.0 MB/s) - ‘sample.csv’ saved [601/601]\n",
            "\n",
            "--2023-04-09 09:36:40--  https://github.com/vitaldb/respfailure/raw/main/splinecalib.pkl\n",
            "Resolving github.com (github.com)... 140.82.112.4\n",
            "Connecting to github.com (github.com)|140.82.112.4|:443... connected.\n",
            "HTTP request sent, awaiting response... 302 Found\n",
            "Location: https://raw.githubusercontent.com/vitaldb/respfailure/main/splinecalib.pkl [following]\n",
            "--2023-04-09 09:36:41--  https://raw.githubusercontent.com/vitaldb/respfailure/main/splinecalib.pkl\n",
            "Resolving raw.githubusercontent.com (raw.githubusercontent.com)... 185.199.108.133, 185.199.109.133, 185.199.110.133, ...\n",
            "Connecting to raw.githubusercontent.com (raw.githubusercontent.com)|185.199.108.133|:443... connected.\n",
            "HTTP request sent, awaiting response... 200 OK\n",
            "Length: 22751537 (22M) [application/octet-stream]\n",
            "Saving to: ‘splinecalib.pkl’\n",
            "\n",
            "splinecalib.pkl     100%[===================>]  21.70M  --.-KB/s    in 0.1s    \n",
            "\n",
            "2023-04-09 09:36:41 (219 MB/s) - ‘splinecalib.pkl’ saved [22751537/22751537]\n",
            "\n"
          ]
        }
      ]
    },
    {
      "cell_type": "markdown",
      "source": [
        "## Sample code for single patient"
      ],
      "metadata": {
        "id": "JZh6ThUZTCT-"
      }
    },
    {
      "cell_type": "code",
      "metadata": {
        "colab": {
          "base_uri": "https://localhost:8080/"
        },
        "id": "c8eh2Sx6k21M",
        "outputId": "c7252850-6aa3-468b-9c67-01cbadb9f50a"
      },
      "source": [
        "import xgboost as xgb\n",
        "import numpy as np\n",
        "import sys\n",
        "import pickle\n",
        "import ml_insights as mli\n",
        "\n",
        "# sample values\n",
        "alb = 3.4\n",
        "cr = 4.16\n",
        "glu = 112\n",
        "wbc = 6.59\n",
        "bmi = 24\n",
        "ptinr = 0.89\n",
        "age = 78\n",
        "andur = 105\n",
        "\n",
        "model = xgb.Booster()\n",
        "model.load_model('model.json')\n",
        "with open('splinecalib.pkl', 'rb') as f:\n",
        "    calib_loaded = pickle.load(f)\n",
        "x = np.array([alb, cr, glu, wbc, bmi, ptinr, age, andur]).astype(float)\n",
        "x[x == 0] = np.nan  # use zero for missing value\n",
        "x = x[None, ...]\n",
        "y = model.predict(xgb.DMatrix(x))[0]\n",
        "print(f'Risk (uncalibrated) = {y * 100:.2f}%')\n",
        "y = calib_loaded.predict(np.array([y]))[0]\n",
        "print(f'Risk (calibrated) = {y * 100:.2f}%')"
      ],
      "execution_count": 3,
      "outputs": [
        {
          "output_type": "stream",
          "name": "stdout",
          "text": [
            "Risk (uncalibrated) = 0.99%\n",
            "Risk (calibrated) = 0.56%\n"
          ]
        }
      ]
    },
    {
      "cell_type": "markdown",
      "source": [
        "## Sample code using CSV file for multiple patients"
      ],
      "metadata": {
        "id": "OzPGaDY6TFFy"
      }
    },
    {
      "cell_type": "code",
      "source": [
        "import xgboost as xgb\n",
        "import numpy as np\n",
        "import pandas as pd\n",
        "\n",
        "model = xgb.Booster()\n",
        "model.load_model('model.json')\n",
        "\n",
        "df = pd.read_csv('sample.csv')\n",
        "x = df[['alb', 'cr', 'glu', 'wbc', 'bmi', 'ptinr', 'age', 'andur']].astype(float).values\n",
        "df['pred'] = calib_loaded.predict(model.predict(xgb.DMatrix(x)))\n",
        "df.to_csv('prediction.csv')\n",
        "print(df)"
      ],
      "metadata": {
        "id": "6ohT00-JT9UM",
        "outputId": "f6668611-375a-47dd-b976-c91f8f7c133c",
        "colab": {
          "base_uri": "https://localhost:8080/"
        }
      },
      "execution_count": 4,
      "outputs": [
        {
          "output_type": "stream",
          "name": "stdout",
          "text": [
            "    no  andur  age    wbc  ptinr  glu  alb   bmi    cr      pred\n",
            "0    1    410   40   4.90   1.04   94  4.4  22.5  0.74  0.000484\n",
            "1    2    100   30   4.20   1.01   96  4.6  19.1  0.66  0.000253\n",
            "2    3    130   53   5.47   0.98   97  4.2  22.2  0.65  0.000261\n",
            "3    4    295   59   5.67   1.07   99  4.6  22.4  0.70  0.000674\n",
            "4    5    260   58   5.34   1.11  103  4.5  26.6  0.87  0.000927\n",
            "5    6    510   69   4.55   0.96   84  4.0  23.6  0.73  0.004764\n",
            "6    7    225   66   4.54   1.12  217  3.5  20.1  0.87  0.010682\n",
            "7    8    355   25  11.10   1.09  135  4.7  24.8  0.93  0.002144\n",
            "8    9    305   83   8.00   1.10   83  3.2  23.2  0.57  0.025936\n",
            "9   10     65   56   4.47   0.92  111  4.4  21.2  0.89  0.000275\n",
            "10  11    150   53  12.80   1.22  141  2.3  33.0  0.53  0.012829\n",
            "11  12    250   63   4.59   0.97  252  4.5  24.6  0.85  0.001060\n",
            "12  13    105   62   5.83   1.01  167  4.1  24.7  0.79  0.000429\n",
            "13  14    115   56   5.58   1.01   83  3.8  21.8  1.05  0.000479\n",
            "14  15    120   61   8.64   0.87  168  4.3  30.8  0.83  0.000415\n"
          ]
        }
      ]
    }
  ]
}